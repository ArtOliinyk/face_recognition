{
 "cells": [
  {
   "cell_type": "markdown",
   "metadata": {},
   "source": [
    "# Import Libraries and Startup Necessities"
   ]
  },
  {
   "cell_type": "code",
   "execution_count": 24,
   "metadata": {
    "_cell_guid": "b1076dfc-b9ad-4769-8c92-a6c4dae69d19",
    "_uuid": "8f2839f25d086af736a60e9eeb907d3b93b6e0e5"
   },
   "outputs": [],
   "source": [
    "import pandas as pd\n",
    "from tqdm import tqdm, trange\n",
    "import numpy as np\n",
    "import os\n",
    "import gc\n",
    "import time\n",
    "\n",
    "from matplotlib import pyplot as plt\n",
    "from skimage.transform import resize\n",
    "import seaborn as sns\n",
    "\n",
    "from keras.applications.mobilenet import preprocess_input as preprocess_input_v1, decode_predictions as decode_predictions_v1\n",
    "from keras.applications.resnet import preprocess_input as preprocess_input_resnet, decode_predictions as decode_predictions_resnet\n",
    "from keras.utils import load_img, img_to_array, to_categorical\n",
    "from keras.applications import MobileNet, ResNet50\n",
    "from keras.models import Model, Sequential\n",
    "from keras.layers import Dense, Dropout, GlobalAveragePooling2D\n",
    "from keras.optimizers import Adam, AdamW, RMSprop, SGD\n",
    "from keras.losses import CategoricalCrossentropy\n",
    "# from keras.metrics import Accuracy\n",
    "from tensorflow.keras.metrics import F1Score\n",
    "from keras.callbacks import EarlyStopping, LearningRateScheduler\n",
    "import tensorflow as tf\n",
    "\n",
    "from sklearn.preprocessing import LabelEncoder, OneHotEncoder\n",
    "from sklearn.model_selection import train_test_split\n",
    "\n",
    "from sklearn.metrics import classification_report, confusion_matrix, accuracy_score, f1_score\n",
    "from wandb.integration.keras import WandbMetricsLogger\n",
    "import wandb\n",
    "# from wandb.keras import WandbCallback"
   ]
  },
  {
   "cell_type": "markdown",
   "metadata": {},
   "source": [
    "## Initialize Wandb"
   ]
  },
  {
   "cell_type": "markdown",
   "metadata": {},
   "source": [
    "Use Kaggle Secret to store my Wandb API"
   ]
  },
  {
   "cell_type": "code",
   "execution_count": 25,
   "metadata": {},
   "outputs": [],
   "source": [
    "# from kaggle_secrets import UserSecretsClient\n",
    "# user_secrets = UserSecretsClient()\n",
    "# secret_value_0 = user_secrets.get_secret(\"wandb_api\")"
   ]
  },
  {
   "cell_type": "markdown",
   "metadata": {},
   "source": [
    "Login to Wandb using my own Wandb API Key stored on Kaggle Secret"
   ]
  },
  {
   "cell_type": "code",
   "execution_count": 26,
   "metadata": {},
   "outputs": [
    {
     "name": "stderr",
     "output_type": "stream",
     "text": [
      "wandb: Currently logged in as: art-oliynyk1 (artoliinyk). Use `wandb login --relogin` to force relogin\n",
      "wandb: WARNING If you're specifying your api key in code, ensure this code is not shared publicly.\n",
      "wandb: WARNING Consider setting the WANDB_API_KEY environment variable, or running `wandb login` from the command line.\n",
      "wandb: Appending key for api.wandb.ai to your netrc file: C:\\Users\\artem\\_netrc\n"
     ]
    },
    {
     "data": {
      "text/plain": [
       "True"
      ]
     },
     "execution_count": 26,
     "metadata": {},
     "output_type": "execute_result"
    }
   ],
   "source": [
    "wandb.login(key='81478a6190ee7d65e15acfbf7f02038452ed97ae')"
   ]
  },
  {
   "cell_type": "markdown",
   "metadata": {},
   "source": [
    "# Loading Dataset and Exploratory Data Analysis (EDA)"
   ]
  },
  {
   "cell_type": "code",
   "execution_count": 27,
   "metadata": {},
   "outputs": [],
   "source": [
    "ALL_NAMES = \"./lfw-dataset/lfw_allnames.csv\"\n",
    "IMAGES_SRC = \"./lfw-dataset/lfw-deepfunneled/lfw-deepfunneled\"\n",
    "PEOPLE = \"./lfw-dataset/people.csv\"\n",
    "PEOPLE_TEST = \"./lfw-dataset/peopleDevTest.csv\"\n",
    "PEOPLE_TRAIN = \"./lfw-dataset/peopleDevTrain.csv\"\n",
    "README = \"./lfw-dataset/lfw_readme.csv\"\n",
    "WORK_DIR = \"./working/\""
   ]
  },
  {
   "cell_type": "code",
   "execution_count": 28,
   "metadata": {},
   "outputs": [
    {
     "data": {
      "text/html": [
       "<div>\n",
       "<style scoped>\n",
       "    .dataframe tbody tr th:only-of-type {\n",
       "        vertical-align: middle;\n",
       "    }\n",
       "\n",
       "    .dataframe tbody tr th {\n",
       "        vertical-align: top;\n",
       "    }\n",
       "\n",
       "    .dataframe thead th {\n",
       "        text-align: right;\n",
       "    }\n",
       "</style>\n",
       "<table border=\"1\" class=\"dataframe\">\n",
       "  <thead>\n",
       "    <tr style=\"text-align: right;\">\n",
       "      <th></th>\n",
       "      <th>images</th>\n",
       "    </tr>\n",
       "  </thead>\n",
       "  <tbody>\n",
       "    <tr>\n",
       "      <th>count</th>\n",
       "      <td>5749.000000</td>\n",
       "    </tr>\n",
       "    <tr>\n",
       "      <th>mean</th>\n",
       "      <td>2.301792</td>\n",
       "    </tr>\n",
       "    <tr>\n",
       "      <th>std</th>\n",
       "      <td>9.016410</td>\n",
       "    </tr>\n",
       "    <tr>\n",
       "      <th>min</th>\n",
       "      <td>1.000000</td>\n",
       "    </tr>\n",
       "    <tr>\n",
       "      <th>25%</th>\n",
       "      <td>1.000000</td>\n",
       "    </tr>\n",
       "    <tr>\n",
       "      <th>50%</th>\n",
       "      <td>1.000000</td>\n",
       "    </tr>\n",
       "    <tr>\n",
       "      <th>75%</th>\n",
       "      <td>2.000000</td>\n",
       "    </tr>\n",
       "    <tr>\n",
       "      <th>max</th>\n",
       "      <td>530.000000</td>\n",
       "    </tr>\n",
       "  </tbody>\n",
       "</table>\n",
       "</div>"
      ],
      "text/plain": [
       "            images\n",
       "count  5749.000000\n",
       "mean      2.301792\n",
       "std       9.016410\n",
       "min       1.000000\n",
       "25%       1.000000\n",
       "50%       1.000000\n",
       "75%       2.000000\n",
       "max     530.000000"
      ]
     },
     "execution_count": 28,
     "metadata": {},
     "output_type": "execute_result"
    }
   ],
   "source": [
    "df_all = pd.read_csv(ALL_NAMES)\n",
    "df_all = df_all.sort_values(by=\"images\", ascending=False) # Descending\n",
    "df_all.describe()"
   ]
  },
  {
   "cell_type": "markdown",
   "metadata": {},
   "source": [
    "As we can see on the dataframe description above, the maximum data is 530 but the 3rd quartile is 2. This indicate a highly imbalance data. So, I would like to filter only use the data whose images count is > 70"
   ]
  },
  {
   "cell_type": "code",
   "execution_count": 29,
   "metadata": {},
   "outputs": [],
   "source": [
    "df_all = df_all[df_all[\"images\"] > 50]"
   ]
  },
  {
   "cell_type": "code",
   "execution_count": 30,
   "metadata": {},
   "outputs": [
    {
     "name": "stdout",
     "output_type": "stream",
     "text": [
      "Count of unique names: 12\n",
      "Count of all data: 1560\n"
     ]
    }
   ],
   "source": [
    "unique_name_count = df_all['name'].nunique()\n",
    "\n",
    "# Display the count of unique values in the \"name\" column\n",
    "print(\"Count of unique names:\", unique_name_count)\n",
    "print(\"Count of all data:\", df_all[\"images\"].sum())"
   ]
  },
  {
   "cell_type": "markdown",
   "metadata": {},
   "source": [
    "As we can see, this only gives us 7 classes/names after filtering, with total data 1288."
   ]
  },
  {
   "cell_type": "markdown",
   "metadata": {},
   "source": [
    "# Data Preprocessing"
   ]
  },
  {
   "cell_type": "markdown",
   "metadata": {},
   "source": [
    "Loading the data set. This step follows the reference: https://keras.io/api/applications/#classify-imagenet-classes-with-resnet50."
   ]
  },
  {
   "cell_type": "code",
   "execution_count": 31,
   "metadata": {},
   "outputs": [
    {
     "name": "stderr",
     "output_type": "stream",
     "text": [
      "100%|                                                                                           | 0/12 [00:00<?, ?it/s]██████▉                                                                            | 1/12 [00:03<00:38,  3.49s/it]█████████████▊                                                                     | 2/12 [00:04<00:22,  2.28s/it]████████████████████▊                                                              | 3/12 [00:05<00:15,  1.70s/it]███████████████████████████▋                                                       | 4/12 [00:06<00:10,  1.29s/it]██████████████████████████████████▌                                                | 5/12 [00:07<00:07,  1.07s/it]█████████████████████████████████████████▌                                         | 6/12 [00:07<00:05,  1.15it/s]████████████████████████████████████████████████▍                                  | 7/12 [00:08<00:03,  1.40it/s]███████████████████████████████████████████████████████▎                           | 8/12 [00:08<00:02,  1.71it/s]██████████████████████████████████████████████████████████████▎                    | 9/12 [00:08<00:01,  1.97it/s]████████████████████████████████████████████████████████████████████▎             | 10/12 [00:09<00:00,  2.23it/s]███████████████████████████████████████████████████████████████████████████▏      | 11/12 [00:09<00:00,  2.44it/s]██████████████████████████████████████████████████████████████████████████████████| 12/12 [00:09<00:00,  2.53it/s]██████████████████████████████████████████████████████████████████████████████████| 12/12 [00:09<00:00,  1.23it/s]\n"
     ]
    }
   ],
   "source": [
    "X = []\n",
    "Y = []\n",
    "\n",
    "tqdm_all_names = tqdm(list(df_all[\"name\"]), colour=\"blue\")\n",
    "\n",
    "for name in tqdm_all_names:\n",
    "    dir_path = os.path.join(IMAGES_SRC, name)\n",
    "    list_images_name = os.listdir(dir_path)\n",
    "    \n",
    "    for image_name in list_images_name:\n",
    "        images_path = os.path.join(dir_path, image_name)\n",
    "        rgb_image = load_img(images_path, target_size=(224, 224))\n",
    "        x = img_to_array(rgb_image)\n",
    "        x = np.expand_dims(x, axis=0)\n",
    "        x_v1 = preprocess_input_v1(x)\n",
    "        X.append(x_v1)\n",
    "        Y.append(name)\n",
    "\n",
    "X = np.asarray(X)\n",
    "Y = np.asarray(Y)"
   ]
  },
  {
   "cell_type": "markdown",
   "metadata": {},
   "source": [
    "## Label Encoding"
   ]
  },
  {
   "cell_type": "markdown",
   "metadata": {},
   "source": [
    "We use one-hot encoding to transform out label from text to number so the machine could understand it. One-hot encoder is used because the MobileNet requires for each label to be a list of its classes, much like sparse-encoding."
   ]
  },
  {
   "cell_type": "code",
   "execution_count": 32,
   "metadata": {},
   "outputs": [],
   "source": [
    "encoder = OneHotEncoder(dtype=np.float32)"
   ]
  },
  {
   "cell_type": "code",
   "execution_count": 33,
   "metadata": {},
   "outputs": [],
   "source": [
    "# Fit and transform the data\n",
    "encoded_Y = encoder.fit_transform(Y.reshape(-1, 1))\n",
    "encoded_Y = encoded_Y.toarray()"
   ]
  },
  {
   "cell_type": "code",
   "execution_count": 34,
   "metadata": {},
   "outputs": [
    {
     "data": {
      "text/plain": [
       "(1560, 12)"
      ]
     },
     "execution_count": 34,
     "metadata": {},
     "output_type": "execute_result"
    }
   ],
   "source": [
    "encoded_Y.shape"
   ]
  },
  {
   "cell_type": "markdown",
   "metadata": {},
   "source": [
    "## Train-Dev-Test Split"
   ]
  },
  {
   "cell_type": "markdown",
   "metadata": {},
   "source": [
    "Train : Dev : Test = 70 : 15 : 15\n",
    "\n",
    "I tried to use stratify=Y_temp on `X_dev, X_test, Y_dev, Y_test = train_test_split(X_temp, Y_temp, test_size=0.5, random_state=30, stratify=Y_temp)` but it showed error \"The least populated class in y has only 1 member, which is too few. The minimum number of groups for any class cannot be less than 2.\"\n",
    "\n",
    "So I use the regular `train_test_split` function from Scikit-learn."
   ]
  },
  {
   "cell_type": "code",
   "execution_count": 35,
   "metadata": {},
   "outputs": [],
   "source": [
    "X1_train, X1_temp, Y1_train, Y1_temp = train_test_split(X, encoded_Y, test_size=0.3, random_state=30)\n",
    "X1_dev, X1_test, Y1_dev, Y1_test = train_test_split(X1_temp, Y1_temp, test_size=0.5, random_state=30)"
   ]
  },
  {
   "cell_type": "markdown",
   "metadata": {},
   "source": [
    "Next, I try to reshape the resulting dimension to be of (n_samples, 224, 224, 3)."
   ]
  },
  {
   "cell_type": "code",
   "execution_count": 36,
   "metadata": {},
   "outputs": [
    {
     "name": "stdout",
     "output_type": "stream",
     "text": [
      "X1_train shape: (1092, 224, 224, 3)\n",
      "X1_dev shape: (234, 224, 224, 3)\n",
      "X1_test shape: (234, 224, 224, 3)\n"
     ]
    }
   ],
   "source": [
    "NEW_SHAPE = (-1, 224, 224, 3)\n",
    "X1_train = X1_train.reshape(NEW_SHAPE)\n",
    "X1_dev = X1_dev.reshape(NEW_SHAPE)\n",
    "X1_test = X1_test.reshape(NEW_SHAPE)\n",
    "print(\"X1_train shape:\", X1_train.shape)\n",
    "print(\"X1_dev shape:\", X1_dev.shape)\n",
    "print(\"X1_test shape:\", X1_test.shape)"
   ]
  },
  {
   "cell_type": "code",
   "execution_count": 37,
   "metadata": {},
   "outputs": [
    {
     "name": "stdout",
     "output_type": "stream",
     "text": [
      "Y1_train shape: (1092, 12)\n",
      "Y1_dev shape: (234, 12)\n",
      "Y1_test shape: (234, 12)\n"
     ]
    }
   ],
   "source": [
    "print(\"Y1_train shape:\", Y1_train.shape)\n",
    "print(\"Y1_dev shape:\", Y1_dev.shape)\n",
    "print(\"Y1_test shape:\", Y1_test.shape)"
   ]
  },
  {
   "cell_type": "code",
   "execution_count": 41,
   "metadata": {},
   "outputs": [
    {
     "ename": "NameError",
     "evalue": "name 'mpimg' is not defined",
     "output_type": "error",
     "traceback": [
      "\u001b[1;31m---------------------------------------------------------------------------\u001b[0m",
      "\u001b[1;31mNameError\u001b[0m                                 Traceback (most recent call last)",
      "Cell \u001b[1;32mIn[41], line 4\u001b[0m\n\u001b[0;32m      2\u001b[0m fig, axs \u001b[38;5;241m=\u001b[39m plt\u001b[38;5;241m.\u001b[39msubplots(\u001b[38;5;241m1\u001b[39m, \u001b[38;5;241m5\u001b[39m, figsize\u001b[38;5;241m=\u001b[39m(\u001b[38;5;241m15\u001b[39m, \u001b[38;5;241m3\u001b[39m))\n\u001b[0;32m      3\u001b[0m \u001b[38;5;28;01mfor\u001b[39;00m i, img_path \u001b[38;5;129;01min\u001b[39;00m \u001b[38;5;28menumerate\u001b[39m(X[:\u001b[38;5;241m5\u001b[39m]):\n\u001b[1;32m----> 4\u001b[0m     img \u001b[38;5;241m=\u001b[39m \u001b[43mmpimg\u001b[49m\u001b[38;5;241m.\u001b[39mimread(img_path)\n\u001b[0;32m      5\u001b[0m     axs[i]\u001b[38;5;241m.\u001b[39mimshow(img)\n\u001b[0;32m      6\u001b[0m     axs[i]\u001b[38;5;241m.\u001b[39mset_title(selected_images[i]\u001b[38;5;241m.\u001b[39msplit(\u001b[38;5;124m'\u001b[39m\u001b[38;5;124m/\u001b[39m\u001b[38;5;124m'\u001b[39m)[\u001b[38;5;241m-\u001b[39m\u001b[38;5;241m2\u001b[39m])  \u001b[38;5;66;03m# Title with the person's name\u001b[39;00m\n",
      "\u001b[1;31mNameError\u001b[0m: name 'mpimg' is not defined"
     ]
    },
    {
     "data": {
      "image/png": "[encoded data removed]",
      "text/plain": [
       "<Figure size 1500x300 with 5 Axes>"
      ]
     },
     "metadata": {},
     "output_type": "display_data"
    }
   ],
   "source": [
    "from matplotlib import pyplot as plt\n",
    "fig, axs = plt.subplots(1, 5, figsize=(15, 3))\n",
    "for i, img_path in enumerate(X[:5]):\n",
    "    img = mpimg.imread(img_path)\n",
    "    axs[i].imshow(img)\n",
    "    axs[i].set_title(selected_images[i].split('/')[-2])  # Title with the person's name\n",
    "    axs[i].axis('off')\n",
    "\n",
    "plt.show()"
   ]
  },
  {
   "cell_type": "markdown",
   "metadata": {},
   "source": [
    "# AI Modelling"
   ]
  },
  {
   "cell_type": "markdown",
   "metadata": {},
   "source": [
    "## Model Declaration"
   ]
  },
  {
   "cell_type": "markdown",
   "metadata": {},
   "source": [
    "For the base model, I use MobileNet with \"imagenet\" as the initial weights. The base model is loaded without its classifier head."
   ]
  },
  {
   "cell_type": "code",
   "execution_count": 39,
   "metadata": {},
   "outputs": [
    {
     "name": "stdout",
     "output_type": "stream",
     "text": [
      "Downloading data from https://storage.googleapis.com/tensorflow/keras-applications/mobilenet/mobilenet_1_0_224_tf_no_top.h5\n",
      "17225924/17225924 ━━━━━━━━━━━━━━━━━━━━ 0s 0s/ste ━━━━━━━━━━━━━━━━━━━━ 1:12 4us/st ━━━━━━━━━━━━━━━━━━━━ 1:05 4us/st ━━━━━━━━━━━━━━━━━━━━ 1:02 4us/st ━━━━━━━━━━━━━━━━━━━━ 46s 3us/step ━━━━━━━━━━━━━━━━━━━━ 40s 2us/ste ━━━━━━━━━━━━━━━━━━━━ 34s 2us/ste ━━━━━━━━━━━━━━━━━━━━ 26s 2us/ste ━━━━━━━━━━━━━━━━━━━━ 22s 1us/ste ━━━━━━━━━━━━━━━━━━━━ 17s 1us/ste ━━━━━━━━━━━━━━━━━━━━ 13s 1us/ste ━━━━━━━━━━━━━━━━━━━━ 10s 1us/ste ━━━━━━━━━━━━━━━━━━━━ 7s 1us/ste ━━━━━━━━━━━━━━━━━━━━ 5s 0us/st ━━━━━━━━━━━━━━━━━━━━ 4s 0us/st ━━━━━━━━━━━━━━━━━━━━ 3s 0us/st ━━━━━━━━━━━━━━━━━━━━ 2s 0us/st ━━━━━━━━━━━━━━━━━━━━ 1s 0us/st ━━━━━━━━━━━━━━━━━━━━ 0s 0us/st ━━━━━━━━━━━━━━━━━━━━ 0s 0us/st ━━━━━━━━━━━━━━━━━━━━ 0s 0us/st ━━━━━━━━━━━━━━━━━━━━ 0s 0us/st ━━━━━━━━━━━━━━━━━━━━ 1s 0us/step\n"
     ]
    },
    {
     "ename": "ValueError",
     "evalue": "object __array__ method not producing an array",
     "output_type": "error",
     "traceback": [
      "\u001b[1;31m---------------------------------------------------------------------------\u001b[0m",
      "\u001b[1;31mValueError\u001b[0m                                Traceback (most recent call last)",
      "Cell \u001b[1;32mIn[39], line 1\u001b[0m\n\u001b[1;32m----> 1\u001b[0m mobilenet_mdl \u001b[38;5;241m=\u001b[39m \u001b[43mMobileNet\u001b[49m\u001b[43m(\u001b[49m\n\u001b[0;32m      2\u001b[0m \u001b[43m    \u001b[49m\u001b[43minclude_top\u001b[49m\u001b[38;5;241;43m=\u001b[39;49m\u001b[38;5;28;43;01mFalse\u001b[39;49;00m\u001b[43m,\u001b[49m\n\u001b[0;32m      3\u001b[0m \u001b[43m    \u001b[49m\u001b[43minput_shape\u001b[49m\u001b[38;5;241;43m=\u001b[39;49m\u001b[43m(\u001b[49m\u001b[38;5;241;43m224\u001b[39;49m\u001b[43m,\u001b[49m\u001b[43m \u001b[49m\u001b[38;5;241;43m224\u001b[39;49m\u001b[43m,\u001b[49m\u001b[43m \u001b[49m\u001b[38;5;241;43m3\u001b[39;49m\u001b[43m)\u001b[49m\u001b[43m,\u001b[49m\n\u001b[0;32m      4\u001b[0m \u001b[43m    \u001b[49m\u001b[43mweights\u001b[49m\u001b[38;5;241;43m=\u001b[39;49m\u001b[38;5;124;43m\"\u001b[39;49m\u001b[38;5;124;43mimagenet\u001b[39;49m\u001b[38;5;124;43m\"\u001b[39;49m\u001b[43m,\u001b[49m\n\u001b[0;32m      5\u001b[0m \u001b[43m)\u001b[49m\n",
      "File \u001b[1;32m~\\AppData\\Local\\Programs\\Python\\Python312\\Lib\\site-packages\\keras\\src\\applications\\mobilenet.py:269\u001b[0m, in \u001b[0;36mMobileNet\u001b[1;34m(input_shape, alpha, depth_multiplier, dropout, include_top, weights, input_tensor, pooling, classes, classifier_activation, name)\u001b[0m\n\u001b[0;32m    265\u001b[0m         weight_path \u001b[38;5;241m=\u001b[39m BASE_WEIGHT_PATH \u001b[38;5;241m+\u001b[39m model_name\n\u001b[0;32m    266\u001b[0m         weights_path \u001b[38;5;241m=\u001b[39m file_utils\u001b[38;5;241m.\u001b[39mget_file(\n\u001b[0;32m    267\u001b[0m             model_name, weight_path, cache_subdir\u001b[38;5;241m=\u001b[39m\u001b[38;5;124m\"\u001b[39m\u001b[38;5;124mmodels\u001b[39m\u001b[38;5;124m\"\u001b[39m\n\u001b[0;32m    268\u001b[0m         )\n\u001b[1;32m--> 269\u001b[0m     \u001b[43mmodel\u001b[49m\u001b[38;5;241;43m.\u001b[39;49m\u001b[43mload_weights\u001b[49m\u001b[43m(\u001b[49m\u001b[43mweights_path\u001b[49m\u001b[43m)\u001b[49m\n\u001b[0;32m    270\u001b[0m \u001b[38;5;28;01melif\u001b[39;00m weights \u001b[38;5;129;01mis\u001b[39;00m \u001b[38;5;129;01mnot\u001b[39;00m \u001b[38;5;28;01mNone\u001b[39;00m:\n\u001b[0;32m    271\u001b[0m     model\u001b[38;5;241m.\u001b[39mload_weights(weights)\n",
      "File \u001b[1;32m~\\AppData\\Local\\Programs\\Python\\Python312\\Lib\\site-packages\\keras\\src\\utils\\traceback_utils.py:122\u001b[0m, in \u001b[0;36mfilter_traceback.<locals>.error_handler\u001b[1;34m(*args, **kwargs)\u001b[0m\n\u001b[0;32m    119\u001b[0m     filtered_tb \u001b[38;5;241m=\u001b[39m _process_traceback_frames(e\u001b[38;5;241m.\u001b[39m__traceback__)\n\u001b[0;32m    120\u001b[0m     \u001b[38;5;66;03m# To get the full stack trace, call:\u001b[39;00m\n\u001b[0;32m    121\u001b[0m     \u001b[38;5;66;03m# `keras.config.disable_traceback_filtering()`\u001b[39;00m\n\u001b[1;32m--> 122\u001b[0m     \u001b[38;5;28;01mraise\u001b[39;00m e\u001b[38;5;241m.\u001b[39mwith_traceback(filtered_tb) \u001b[38;5;28;01mfrom\u001b[39;00m \u001b[38;5;28;01mNone\u001b[39;00m\n\u001b[0;32m    123\u001b[0m \u001b[38;5;28;01mfinally\u001b[39;00m:\n\u001b[0;32m    124\u001b[0m     \u001b[38;5;28;01mdel\u001b[39;00m filtered_tb\n",
      "File \u001b[1;32m~\\AppData\\Local\\Programs\\Python\\Python312\\Lib\\site-packages\\tensorflow\\python\\framework\\constant_op.py:108\u001b[0m, in \u001b[0;36mconvert_to_eager_tensor\u001b[1;34m(value, ctx, dtype)\u001b[0m\n\u001b[0;32m    106\u001b[0m     dtype \u001b[38;5;241m=\u001b[39m dtypes\u001b[38;5;241m.\u001b[39mas_dtype(dtype)\u001b[38;5;241m.\u001b[39mas_datatype_enum\n\u001b[0;32m    107\u001b[0m ctx\u001b[38;5;241m.\u001b[39mensure_initialized()\n\u001b[1;32m--> 108\u001b[0m \u001b[38;5;28;01mreturn\u001b[39;00m \u001b[43mops\u001b[49m\u001b[38;5;241;43m.\u001b[39;49m\u001b[43mEagerTensor\u001b[49m\u001b[43m(\u001b[49m\u001b[43mvalue\u001b[49m\u001b[43m,\u001b[49m\u001b[43m \u001b[49m\u001b[43mctx\u001b[49m\u001b[38;5;241;43m.\u001b[39;49m\u001b[43mdevice_name\u001b[49m\u001b[43m,\u001b[49m\u001b[43m \u001b[49m\u001b[43mdtype\u001b[49m\u001b[43m)\u001b[49m\n",
      "\u001b[1;31mValueError\u001b[0m: object __array__ method not producing an array"
     ]
    }
   ],
   "source": [
    "mobilenet_mdl = MobileNet(\n",
    "    include_top=False,\n",
    "    input_shape=(224, 224, 3),\n",
    "    weights=\"imagenet\",\n",
    ")"
   ]
  },
  {
   "cell_type": "code",
   "execution_count": null,
   "metadata": {},
   "outputs": [],
   "source": [
    "data_augmentation = tf.keras.Sequential([\n",
    "  tf.keras.layers.RandomFlip('horizontal'),\n",
    "  tf.keras.layers.RandomContrast(factor=0.2),\n",
    "  tf.keras.layers.RandomBrightness(factor=0.3),\n",
    "])"
   ]
  },
  {
   "cell_type": "markdown",
   "metadata": {},
   "source": [
    "Then, add a custom classifier head"
   ]
  },
  {
   "cell_type": "code",
   "execution_count": null,
   "metadata": {},
   "outputs": [],
   "source": [
    "def head_model(base_model, n_classes):\n",
    "    inputs = base_model.input\n",
    "    aug = data_augmentation(inputs)\n",
    "    top_model = base_model.output\n",
    "    top_model = GlobalAveragePooling2D(data_format=\"channels_last\")(top_model)\n",
    "    top_model = Dense(1024, activation=\"relu\")(top_model)\n",
    "    top_model = Dropout(0.69)(top_model)\n",
    "    top_model = Dense(1000, activation=\"relu\")(top_model)\n",
    "    top_model = Dropout(0.55)(top_model)\n",
    "    top_model = Dense(n_classes, activation=\"softmax\")(top_model)\n",
    "    return top_model"
   ]
  },
  {
   "cell_type": "markdown",
   "metadata": {},
   "source": [
    "Stack the classifier head on the top of the base model"
   ]
  },
  {
   "cell_type": "code",
   "execution_count": null,
   "metadata": {},
   "outputs": [],
   "source": []
  },
  {
   "cell_type": "code",
   "execution_count": null,
   "metadata": {},
   "outputs": [],
   "source": [
    "model_mobilenet_head = head_model(mobilenet_mdl, encoded_Y.shape[1])\n",
    "model_mobilenet = Model(inputs = mobilenet_mdl.input, outputs = model_mobilenet_head)"
   ]
  },
  {
   "cell_type": "markdown",
   "metadata": {},
   "source": [
    "Freeze other than the top 6 layers (or, train the classifier heads), so that the trainable neurons is the one on the custom classifier head."
   ]
  },
  {
   "cell_type": "code",
   "execution_count": null,
   "metadata": {},
   "outputs": [],
   "source": [
    "for layer in model_mobilenet.layers[:-6]:\n",
    "    layer.trainable = False"
   ]
  },
  {
   "cell_type": "markdown",
   "metadata": {},
   "source": [
    "Look at the declared model architecture"
   ]
  },
  {
   "cell_type": "code",
   "execution_count": null,
   "metadata": {},
   "outputs": [],
   "source": [
    "model_mobilenet.summary()"
   ]
  },
  {
   "cell_type": "markdown",
   "metadata": {},
   "source": [
    "We can see the trainable params/neurons above is the same as the sum of the number of neurons from the last 6 layers. This indicates that we have freezed the base model."
   ]
  },
  {
   "cell_type": "markdown",
   "metadata": {},
   "source": [
    "## Training"
   ]
  },
  {
   "cell_type": "markdown",
   "metadata": {},
   "source": [
    "### Helper Functions"
   ]
  },
  {
   "cell_type": "markdown",
   "metadata": {},
   "source": [
    "Create helper function to plot the training process"
   ]
  },
  {
   "cell_type": "code",
   "execution_count": null,
   "metadata": {},
   "outputs": [],
   "source": [
    "def plot_training_history(history):\n",
    "    # Plot training and validation accuracy values\n",
    "    sns.set(style=\"whitegrid\")\n",
    "    plt.figure(figsize=(12, 6))\n",
    "    plt.subplot(1, 2, 1)\n",
    "    plt.plot(history.history['f1_score'], label='Training')\n",
    "    plt.plot(history.history['val_f1_score'], label='Validation')\n",
    "    plt.title('Training and Validation F1 Score')\n",
    "    plt.xlabel('Epoch')\n",
    "    plt.ylabel('F1 Score')\n",
    "    plt.legend()\n",
    "\n",
    "    # Plot training and validation loss values\n",
    "    plt.subplot(1, 2, 2)\n",
    "    plt.plot(history.history['loss'], label='Training')\n",
    "    plt.plot(history.history['val_loss'], label='Validation')\n",
    "    plt.title('Training and Validation Loss')\n",
    "    plt.xlabel('Epoch')\n",
    "    plt.ylabel('Loss')\n",
    "    plt.legend()\n",
    "\n",
    "    plt.show()"
   ]
  },
  {
   "cell_type": "markdown",
   "metadata": {},
   "source": [
    "Create helper function to warmup learning rate while training. This help the model to utilize high learning rate for a few epochs, then exponentially decrease the learning rate."
   ]
  },
  {
   "cell_type": "code",
   "execution_count": null,
   "metadata": {},
   "outputs": [],
   "source": [
    "def scheduler(running_epoch, learning_rate):\n",
    "    try:\n",
    "        if running_epoch <= 10:\n",
    "            return learning_rate\n",
    "        else:\n",
    "            if learning_rate < float(1e-6): # Do NOT make the learning rate any lower than 1e-6\n",
    "                return learning_rate\n",
    "            else:\n",
    "                return learning_rate * tf.math.exp(-0.1)\n",
    "    except Exception as e:\n",
    "        print(f\"Error while returning the scheduler LR!\", e)"
   ]
  },
  {
   "cell_type": "markdown",
   "metadata": {},
   "source": [
    "Create helper function to show time elapsed"
   ]
  },
  {
   "cell_type": "code",
   "execution_count": null,
   "metadata": {},
   "outputs": [],
   "source": [
    "def training_time_elapsed(elapsed_time):\n",
    "    # Format the elapsed time\n",
    "    hours, remainder = divmod(elapsed_time, 3600)\n",
    "    minutes, seconds = divmod(remainder, 60)\n",
    "\n",
    "    if hours >= 1:\n",
    "        print(f\"The training goes by {int(hours)} hour, {int(minutes)} minutes, and {int(seconds)} seconds.\")\n",
    "    elif minutes >= 1:\n",
    "        print(f\"The training goes by {int(minutes)} minutes and {int(seconds)} seconds.\")\n",
    "    else:\n",
    "        print(f\"The training goes by {int(seconds)} seconds.\")"
   ]
  },
  {
   "cell_type": "markdown",
   "metadata": {},
   "source": [
    "## Train and Validation"
   ]
  },
  {
   "cell_type": "markdown",
   "metadata": {},
   "source": [
    "### Phase I: Train the Classifier Head"
   ]
  },
  {
   "cell_type": "markdown",
   "metadata": {},
   "source": [
    "Initializing Wandb for Phase I - Train and Validation"
   ]
  },
  {
   "cell_type": "code",
   "execution_count": null,
   "metadata": {},
   "outputs": [],
   "source": [
    "# Initialize WandB\n",
    "wandb.init(\n",
    "    project=\"face-recognition-lfw\",\n",
    "    name=\"phase1-train-n-validate\"\n",
    ")"
   ]
  },
  {
   "cell_type": "markdown",
   "metadata": {},
   "source": [
    "Describing hyperparameters used"
   ]
  },
  {
   "cell_type": "code",
   "execution_count": null,
   "metadata": {},
   "outputs": [],
   "source": [
    "# Hyperparameters Phase 1\n",
    "BATCH_SIZE_phase1 = 64\n",
    "EPOCHS_phase1 = 150\n",
    "LEARNING_RATE_phase1 = 3e-4\n",
    "L2_REGULARIZATION_phase1 = 4e-5"
   ]
  },
  {
   "cell_type": "markdown",
   "metadata": {},
   "source": [
    "Describing loss function, optimizer, and metrics used when training the model. I use F1-Score because of the imbalance dataset case."
   ]
  },
  {
   "cell_type": "code",
   "execution_count": null,
   "metadata": {},
   "outputs": [],
   "source": [
    "optimizer_mobilenet_phase1 = AdamW(\n",
    "    learning_rate=LEARNING_RATE_phase1,\n",
    "    weight_decay=L2_REGULARIZATION_phase1,\n",
    ")\n",
    "loss_function_mobilenet_phase1 = CategoricalCrossentropy()\n",
    "early_stopping_phase1 = EarlyStopping(monitor='val_f1_score', mode=\"max\", start_from_epoch=10, patience=25, restore_best_weights=True)\n",
    "scheduler_phase1 = LearningRateScheduler(scheduler)\n",
    "wandb_phase1 = WandbMetricsLogger(save_model=False)\n",
    "\n",
    "model_mobilenet.compile(\n",
    "    loss = loss_function_mobilenet_phase1,\n",
    "    optimizer = optimizer_mobilenet_phase1,\n",
    "    metrics=[F1Score(average=\"micro\", dtype=np.float32)]\n",
    ")"
   ]
  },
  {
   "cell_type": "markdown",
   "metadata": {},
   "source": [
    "Train the model!"
   ]
  },
  {
   "cell_type": "code",
   "execution_count": null,
   "metadata": {},
   "outputs": [],
   "source": [
    "try:\n",
    "    print(\"Training MobileNet Phase 1...\")\n",
    "    start_time1 = time.time()\n",
    "    training_history = model_mobilenet.fit(\n",
    "        batch_size=BATCH_SIZE_phase1,\n",
    "        epochs=EPOCHS_phase1,\n",
    "        x=X1_train,\n",
    "        y=Y1_train,\n",
    "        shuffle=True,\n",
    "        validation_data=(X1_dev, Y1_dev),\n",
    "        callbacks=[\n",
    "            early_stopping_phase1,\n",
    "            scheduler_phase1,\n",
    "            wandb_phase1,\n",
    "        ],\n",
    "        verbose=0 if EPOCHS_phase1 > 50 else 1,\n",
    "    )\n",
    "    elapsed_time1 = time.time() - start_time1\n",
    "    \n",
    "    plot_training_history(training_history)\n",
    "    training_time_elapsed(elapsed_time1)\n",
    "except Exception as e:\n",
    "    print(\"Error while training MobileNet!\", e)"
   ]
  },
  {
   "cell_type": "markdown",
   "metadata": {},
   "source": [
    "Evaluate the first phase using development data"
   ]
  },
  {
   "cell_type": "code",
   "execution_count": null,
   "metadata": {},
   "outputs": [],
   "source": [
    "result_eval_mobilenet_phase1 = model_mobilenet.evaluate(X1_dev, Y1_dev, batch_size=BATCH_SIZE_phase1)"
   ]
  },
  {
   "cell_type": "code",
   "execution_count": null,
   "metadata": {},
   "outputs": [],
   "source": [
    "print(f\"F1 Score of the MobileNet Phase 1: {round(result_eval_mobilenet_phase1[1] * 100, 2)}%\")"
   ]
  },
  {
   "cell_type": "markdown",
   "metadata": {},
   "source": [
    "The resulting validation vs training F1-Score and its loss is looking good! No sign of overfitting. The initial Phase I training validation F1-Score is 90s%"
   ]
  },
  {
   "cell_type": "markdown",
   "metadata": {},
   "source": [
    "Finish the current Wandb logging run"
   ]
  },
  {
   "cell_type": "code",
   "execution_count": null,
   "metadata": {},
   "outputs": [],
   "source": [
    "wandb.finish()"
   ]
  },
  {
   "cell_type": "markdown",
   "metadata": {},
   "source": [
    "### Phase II: Train the 2 Top MobileNet Blocks"
   ]
  },
  {
   "cell_type": "markdown",
   "metadata": {},
   "source": [
    "Initialize new Wandb run"
   ]
  },
  {
   "cell_type": "code",
   "execution_count": null,
   "metadata": {},
   "outputs": [],
   "source": [
    "# Initialize WandB\n",
    "wandb.init(\n",
    "    project=\"face-recognition-lfw\",\n",
    "    name=\"phase2-train-n-validate\"\n",
    ")"
   ]
  },
  {
   "cell_type": "code",
   "execution_count": null,
   "metadata": {},
   "outputs": [],
   "source": [
    "print(f\"Base model has {len(mobilenet_mdl.layers)} layers.\")"
   ]
  },
  {
   "cell_type": "markdown",
   "metadata": {},
   "source": [
    "Next, I want to train the 2 top MobileNet Convolutional Layers. Unfreeze starting from the 2 top MobileNet Convolutional Layers, and freeze the other layers. This means we unfreeze the last 2 Convolutional Layers (Conv2D), all the way to the last layers. The previous layers should be freezed."
   ]
  },
  {
   "cell_type": "code",
   "execution_count": null,
   "metadata": {},
   "outputs": [],
   "source": [
    "for layer in model_mobilenet.layers[:len(model_mobilenet.layers)-15]:\n",
    "    layer.trainable = False\n",
    "    \n",
    "for layer in model_mobilenet.layers[len(model_mobilenet.layers)-15:]:\n",
    "    layer.trainable = True"
   ]
  },
  {
   "cell_type": "code",
   "execution_count": null,
   "metadata": {},
   "outputs": [],
   "source": [
    "# Hyperparameters Phase 2\n",
    "BATCH_SIZE_phase2 = 32\n",
    "EPOCHS_phase2 = 100\n",
    "LEARNING_RATE_phase2 = 1e-4\n",
    "L2_REGULARIZATION_phase2 = 4e-5"
   ]
  },
  {
   "cell_type": "code",
   "execution_count": null,
   "metadata": {},
   "outputs": [],
   "source": [
    "optimizer_mobilenet_phase2 = AdamW(\n",
    "    learning_rate=LEARNING_RATE_phase2,\n",
    "    weight_decay=L2_REGULARIZATION_phase2\n",
    ")\n",
    "loss_function_mobilenet_phase2 = CategoricalCrossentropy()\n",
    "early_stopping_phase2 = EarlyStopping(monitor='val_f1_score', mode=\"max\", start_from_epoch=10, patience=25, restore_best_weights=True)\n",
    "scheduler_phase2 = LearningRateScheduler(scheduler)\n",
    "wandb_phase2 = WandbMetricsLogger(save_model=False)\n",
    "\n",
    "model_mobilenet.compile(\n",
    "    loss = loss_function_mobilenet_phase2,\n",
    "    optimizer = optimizer_mobilenet_phase2,\n",
    "    metrics=[F1Score(average=\"micro\", dtype=np.float32)]\n",
    ")"
   ]
  },
  {
   "cell_type": "code",
   "execution_count": null,
   "metadata": {},
   "outputs": [],
   "source": [
    "try:\n",
    "    print(\"Training MobileNet Phase 2...\")\n",
    "    start_time1 = time.time()\n",
    "    training_history = model_mobilenet.fit(\n",
    "        batch_size=BATCH_SIZE_phase2,\n",
    "        epochs=EPOCHS_phase2,\n",
    "        x=X1_train,\n",
    "        y=Y1_train,\n",
    "        shuffle=True,\n",
    "        validation_data=(X1_dev, Y1_dev),\n",
    "        callbacks=[\n",
    "            early_stopping_phase2,\n",
    "            scheduler_phase2,\n",
    "            wandb_phase2,\n",
    "        ],\n",
    "        verbose=0 if EPOCHS_phase2 > 50 else 1,\n",
    "    )\n",
    "    elapsed_time1 = time.time() - start_time1\n",
    "    \n",
    "    plot_training_history(training_history)\n",
    "    training_time_elapsed(elapsed_time1)\n",
    "except Exception as e:\n",
    "    print(\"Error while training MobileNet!\", e)"
   ]
  },
  {
   "cell_type": "markdown",
   "metadata": {},
   "source": [
    "Evaluate the second phase with development data"
   ]
  },
  {
   "cell_type": "code",
   "execution_count": null,
   "metadata": {},
   "outputs": [],
   "source": [
    "result_eval_mobilenet_phase2 = model_mobilenet.evaluate(X1_dev, Y1_dev, batch_size=BATCH_SIZE_phase2)"
   ]
  },
  {
   "cell_type": "code",
   "execution_count": null,
   "metadata": {},
   "outputs": [],
   "source": [
    "print(f\"F1 Score of the MobileNet Phase 2: {round(result_eval_mobilenet_phase2[1] * 100, 2)}%\")"
   ]
  },
  {
   "cell_type": "markdown",
   "metadata": {},
   "source": [
    "The resulting training vs validation loss and F1-Score graphs are looking good! No sign of overfitting. The evaluation of the 2nd Phase is the F1-Score of 95s%. This implicates that training the classifier head first then train the 2 last Convolutional Layers improves the resulting F1-Score."
   ]
  },
  {
   "cell_type": "markdown",
   "metadata": {},
   "source": [
    "Finish the current Wandb logging run"
   ]
  },
  {
   "cell_type": "code",
   "execution_count": null,
   "metadata": {},
   "outputs": [],
   "source": [
    "wandb.finish()"
   ]
  },
  {
   "cell_type": "markdown",
   "metadata": {},
   "source": [
    "## Holdout Validation"
   ]
  },
  {
   "cell_type": "markdown",
   "metadata": {},
   "source": [
    "I use holdout strategy here. I'm going to combine the training and validation/development data to create a new \"holdout\" data. This holdout data is going to be tested against the testing data."
   ]
  },
  {
   "cell_type": "code",
   "execution_count": null,
   "metadata": {},
   "outputs": [],
   "source": [
    "# Concatenate the arrays along the first axis\n",
    "X1_holdout = np.concatenate((X1_train, X1_dev), axis=0)\n",
    "Y1_holdout = np.concatenate((Y1_train, Y1_dev), axis=0)"
   ]
  },
  {
   "cell_type": "markdown",
   "metadata": {},
   "source": [
    "### Phase I: Train the Classifier Head"
   ]
  },
  {
   "cell_type": "markdown",
   "metadata": {},
   "source": [
    "Initialize new Wandb logging run"
   ]
  },
  {
   "cell_type": "code",
   "execution_count": null,
   "metadata": {},
   "outputs": [],
   "source": [
    "# Initialize WandB\n",
    "wandb.init(\n",
    "    project=\"face-recognition-lfw\",\n",
    "    name=\"phase1-holdout\"\n",
    ")"
   ]
  },
  {
   "cell_type": "markdown",
   "metadata": {},
   "source": [
    "Re-freeze the model's layers except the last 6 layers."
   ]
  },
  {
   "cell_type": "code",
   "execution_count": null,
   "metadata": {},
   "outputs": [],
   "source": [
    "for layer in model_mobilenet.layers[:-6]:\n",
    "    layer.trainable = False"
   ]
  },
  {
   "cell_type": "markdown",
   "metadata": {},
   "source": [
    "Define hyperparameters for holdout phase 1"
   ]
  },
  {
   "cell_type": "code",
   "execution_count": null,
   "metadata": {},
   "outputs": [],
   "source": [
    "# Hyperparameters holdout Phase 1\n",
    "BATCH_SIZE_holdout_phase1 = 32\n",
    "EPOCHS_holdout_phase1 = 20\n",
    "LEARNING_RATE_holdout_phase1 = 2e-4\n",
    "L2_REGULARIZATION_holdout_phase1 = 4e-5"
   ]
  },
  {
   "cell_type": "markdown",
   "metadata": {},
   "source": [
    "Define the loss function, optimizer, callback functions, and compile the model again"
   ]
  },
  {
   "cell_type": "code",
   "execution_count": null,
   "metadata": {},
   "outputs": [],
   "source": [
    "optimizer_mobilenet_holdout_phase1 = AdamW(\n",
    "    learning_rate=LEARNING_RATE_holdout_phase1,\n",
    "    weight_decay=L2_REGULARIZATION_holdout_phase1\n",
    ")\n",
    "loss_function_mobilenet_holdout_phase1 = CategoricalCrossentropy()\n",
    "early_stopping_holdout_phase1 = EarlyStopping(monitor='val_f1_score', mode=\"max\", start_from_epoch=10, patience=25, restore_best_weights=True)\n",
    "scheduler_holdout_phase1 = LearningRateScheduler(scheduler)\n",
    "wandb_holdout_phase1 = WandbMetricsLogger(save_model=False)\n",
    "\n",
    "model_mobilenet.compile(\n",
    "    loss = loss_function_mobilenet_holdout_phase1,\n",
    "    optimizer = optimizer_mobilenet_holdout_phase1,\n",
    "    metrics=[\n",
    "        F1Score(average=\"micro\", dtype=np.float32),\n",
    "    ]\n",
    ")"
   ]
  },
  {
   "cell_type": "markdown",
   "metadata": {},
   "source": [
    "Re-train the model using Holdout data"
   ]
  },
  {
   "cell_type": "code",
   "execution_count": null,
   "metadata": {},
   "outputs": [],
   "source": [
    "try:\n",
    "    print(\"Training MobileNet Holdout Phase 1...\")\n",
    "    start_time1 = time.time()\n",
    "    training_history = model_mobilenet.fit(\n",
    "        batch_size=BATCH_SIZE_holdout_phase1,\n",
    "        epochs=EPOCHS_holdout_phase1,\n",
    "        x=X1_holdout,\n",
    "        y=Y1_holdout,\n",
    "        shuffle=True,\n",
    "        validation_data=(X1_test, Y1_test),\n",
    "        callbacks=[\n",
    "            early_stopping_holdout_phase1,\n",
    "            scheduler_holdout_phase1,\n",
    "            wandb_holdout_phase1,\n",
    "        ],\n",
    "        verbose=0,\n",
    "    )\n",
    "    elapsed_time1 = time.time() - start_time1\n",
    "    \n",
    "    plot_training_history(training_history)\n",
    "    training_time_elapsed(elapsed_time1)\n",
    "except Exception as e:\n",
    "    print(\"Error while training MobileNet!\", e)"
   ]
  },
  {
   "cell_type": "code",
   "execution_count": null,
   "metadata": {},
   "outputs": [],
   "source": [
    "result_eval_mobilenet_holdout_phase1 = model_mobilenet.evaluate(X1_test, Y1_test, batch_size=BATCH_SIZE_holdout_phase1)"
   ]
  },
  {
   "cell_type": "code",
   "execution_count": null,
   "metadata": {},
   "outputs": [],
   "source": [
    "print(f\"F1 Score of the MobileNet Holdout Phase 1: {round(result_eval_mobilenet_holdout_phase1[1] * 100, 2)}%\")"
   ]
  },
  {
   "cell_type": "markdown",
   "metadata": {},
   "source": [
    "Finish the current Wandb logging run"
   ]
  },
  {
   "cell_type": "code",
   "execution_count": null,
   "metadata": {},
   "outputs": [],
   "source": [
    "wandb.finish()"
   ]
  },
  {
   "cell_type": "markdown",
   "metadata": {},
   "source": [
    "### Phase II: Train the 2 Top MobileNet Blocks"
   ]
  },
  {
   "cell_type": "markdown",
   "metadata": {},
   "source": [
    "Initialize a new Wandb logging run"
   ]
  },
  {
   "cell_type": "code",
   "execution_count": null,
   "metadata": {},
   "outputs": [],
   "source": [
    "# Initialize WandB\n",
    "wandb.init(\n",
    "    project=\"face-recognition-lfw\",\n",
    "    name=\"phase2-holdout\"\n",
    ")"
   ]
  },
  {
   "cell_type": "markdown",
   "metadata": {},
   "source": [
    "Unfreeze the base model/MobileNet model except the 2 last Convolutional layers and keep the other layers to be frozen."
   ]
  },
  {
   "cell_type": "code",
   "execution_count": null,
   "metadata": {},
   "outputs": [],
   "source": [
    "for layer in model_mobilenet.layers[:len(model_mobilenet.layers)-15]:\n",
    "    layer.trainable = False\n",
    "    \n",
    "for layer in model_mobilenet.layers[len(model_mobilenet.layers)-15:]:\n",
    "    layer.trainable = True"
   ]
  },
  {
   "cell_type": "markdown",
   "metadata": {},
   "source": [
    "Define the hyperparameters used for Phase 2 of the holdout training"
   ]
  },
  {
   "cell_type": "code",
   "execution_count": null,
   "metadata": {},
   "outputs": [],
   "source": [
    "# Hyperparameters holdout Phase 2\n",
    "BATCH_SIZE_holdout_phase2 = 32\n",
    "EPOCHS_holdout_phase2 = 100\n",
    "LEARNING_RATE_holdout_phase2 = 1e-4\n",
    "L2_REGULARIZATION_holdout_phase2 = 4e-5"
   ]
  },
  {
   "cell_type": "markdown",
   "metadata": {},
   "source": [
    "Re-compile the model again"
   ]
  },
  {
   "cell_type": "code",
   "execution_count": null,
   "metadata": {},
   "outputs": [],
   "source": [
    "optimizer_mobilenet_holdout_phase2 = AdamW(\n",
    "    learning_rate=LEARNING_RATE_holdout_phase2,\n",
    "    weight_decay=L2_REGULARIZATION_holdout_phase2\n",
    ")\n",
    "loss_function_mobilenet_holdout_phase2 = CategoricalCrossentropy()\n",
    "early_stopping_holdout_phase2 = EarlyStopping(monitor='val_f1_score', mode=\"max\", start_from_epoch=10, patience=20, restore_best_weights=True)\n",
    "scheduler_holdout_phase2 = LearningRateScheduler(scheduler)\n",
    "wandb_holdout_phase2 = WandbMetricsLogger(save_model=False)\n",
    "\n",
    "model_mobilenet.compile(\n",
    "    loss = loss_function_mobilenet_holdout_phase2,\n",
    "    optimizer = optimizer_mobilenet_holdout_phase2,\n",
    "    metrics=[\n",
    "        F1Score(average=\"micro\", dtype=np.float32),\n",
    "    ]\n",
    ")"
   ]
  },
  {
   "cell_type": "code",
   "execution_count": null,
   "metadata": {},
   "outputs": [],
   "source": [
    "try:\n",
    "    print(\"Training MobileNet Holdout Phase 2...\")\n",
    "    start_time1 = time.time()\n",
    "    training_history = model_mobilenet.fit(\n",
    "        batch_size=BATCH_SIZE_holdout_phase2,\n",
    "        epochs=EPOCHS_holdout_phase2,\n",
    "        x=X1_holdout,\n",
    "        y=Y1_holdout,\n",
    "        shuffle=True,\n",
    "        validation_data=(X1_test, Y1_test),\n",
    "        callbacks=[\n",
    "            early_stopping_holdout_phase2,\n",
    "            scheduler_holdout_phase2,\n",
    "            wandb_holdout_phase2\n",
    "        ],\n",
    "        verbose=0 if EPOCHS_holdout_phase2 > 50 else 1,\n",
    "    )\n",
    "    elapsed_time1 = time.time() - start_time1\n",
    "    \n",
    "    plot_training_history(training_history)\n",
    "    training_time_elapsed(elapsed_time1)\n",
    "except Exception as e:\n",
    "    print(\"Error while training MobileNet!\", e)"
   ]
  },
  {
   "cell_type": "markdown",
   "metadata": {},
   "source": [
    "Evaluating the holdout Phase 2"
   ]
  },
  {
   "cell_type": "code",
   "execution_count": null,
   "metadata": {},
   "outputs": [],
   "source": [
    "result_eval_mobilenet_holdout_phase2 = model_mobilenet.evaluate(X1_test, Y1_test, batch_size=BATCH_SIZE_holdout_phase2)"
   ]
  },
  {
   "cell_type": "code",
   "execution_count": null,
   "metadata": {},
   "outputs": [],
   "source": [
    "print(f\"F1 Score of the MobileNet Holdout Phase 2: {round(result_eval_mobilenet_holdout_phase2[1] * 100, 2)}%\")"
   ]
  },
  {
   "cell_type": "markdown",
   "metadata": {},
   "source": [
    "Finalize the current Wandb logging run"
   ]
  },
  {
   "cell_type": "code",
   "execution_count": null,
   "metadata": {},
   "outputs": [],
   "source": [
    "wandb.finish()"
   ]
  },
  {
   "cell_type": "markdown",
   "metadata": {},
   "source": [
    "# Performance Report & Analysis"
   ]
  },
  {
   "cell_type": "markdown",
   "metadata": {},
   "source": [
    "## Evaluate"
   ]
  },
  {
   "cell_type": "code",
   "execution_count": null,
   "metadata": {},
   "outputs": [],
   "source": [
    "gc.collect() # garbage collection"
   ]
  },
  {
   "cell_type": "markdown",
   "metadata": {},
   "source": [
    "Let's test it using the unseen testing data!"
   ]
  },
  {
   "cell_type": "code",
   "execution_count": null,
   "metadata": {},
   "outputs": [],
   "source": [
    "result_mobilenet = model_mobilenet.evaluate(X1_test, Y1_test, batch_size=BATCH_SIZE_holdout_phase2)"
   ]
  },
  {
   "cell_type": "markdown",
   "metadata": {},
   "source": [
    "## Result"
   ]
  },
  {
   "cell_type": "code",
   "execution_count": null,
   "metadata": {},
   "outputs": [],
   "source": [
    "print(f\"F1 Score MobileNet: {round(result_mobilenet[1] * 100, 2)}%\")"
   ]
  },
  {
   "cell_type": "markdown",
   "metadata": {},
   "source": [
    "The result is pretty good!"
   ]
  },
  {
   "cell_type": "markdown",
   "metadata": {},
   "source": [
    "## Classification Result"
   ]
  },
  {
   "cell_type": "code",
   "execution_count": null,
   "metadata": {},
   "outputs": [],
   "source": [
    "predict_mobilenet = model_mobilenet.predict(X1_test, batch_size=BATCH_SIZE_holdout_phase2)"
   ]
  },
  {
   "cell_type": "code",
   "execution_count": null,
   "metadata": {},
   "outputs": [],
   "source": [
    "Y_pred_1dim = np.argmax(predict_mobilenet, axis=1)"
   ]
  },
  {
   "cell_type": "code",
   "execution_count": null,
   "metadata": {},
   "outputs": [],
   "source": [
    "Y_test_1dim = np.argmax(Y1_test, axis=1)"
   ]
  },
  {
   "cell_type": "code",
   "execution_count": null,
   "metadata": {},
   "outputs": [],
   "source": [
    "print(classification_report(y_true = Y_test_1dim, y_pred = Y_pred_1dim))"
   ]
  },
  {
   "cell_type": "code",
   "execution_count": null,
   "metadata": {},
   "outputs": [],
   "source": [
    "encoder.categories_[0]"
   ]
  },
  {
   "cell_type": "code",
   "execution_count": null,
   "metadata": {},
   "outputs": [],
   "source": [
    "conf_matrice = confusion_matrix(y_true = Y_test_1dim, y_pred = Y_pred_1dim)"
   ]
  },
  {
   "cell_type": "code",
   "execution_count": null,
   "metadata": {},
   "outputs": [],
   "source": [
    "# Define a color map (blue for higher values, red for lower values)\n",
    "cmap = sns.diverging_palette(240, 10, as_cmap=True)\n",
    "# Plot the heatmap\n",
    "plt.figure(figsize=(8, 6))\n",
    "sns.heatmap(conf_matrice, annot=True, fmt=\".2f\", cmap=cmap, linewidths=.5, square=True)"
   ]
  },
  {
   "cell_type": "code",
   "execution_count": null,
   "metadata": {},
   "outputs": [],
   "source": [
    "final_accuracy = accuracy_score(y_true=Y_test_1dim, y_pred=Y_pred_1dim)\n",
    "final_f1_score = f1_score(y_true=Y_test_1dim, y_pred=Y_pred_1dim, average=\"micro\")\n",
    "\n",
    "print(f\"Final Accuracy: {round(final_accuracy * 100, 2)}%\")\n",
    "print(f\"Final F1 Score: {round(final_f1_score * 100, 2)}%\")"
   ]
  },
  {
   "cell_type": "markdown",
   "metadata": {},
   "source": [
    "# Error Analysis"
   ]
  },
  {
   "cell_type": "code",
   "execution_count": null,
   "metadata": {},
   "outputs": [],
   "source": [
    "true_labels = encoder.categories_[0]\n",
    "for i_test in range(len(Y_test_1dim)):\n",
    "    data_in_true = Y_test_1dim[i_test]\n",
    "    data_in_pred = Y_pred_1dim[i_test]\n",
    "    \n",
    "    if data_in_true != data_in_pred:\n",
    "        print(f\"True label: {true_labels[data_in_true]}\")\n",
    "        print(f\"Predicted: {true_labels[data_in_pred]}\")\n",
    "        print(\"===========\")"
   ]
  },
  {
   "cell_type": "markdown",
   "metadata": {},
   "source": [
    "We have the falsely predicted label above and its supposed-to-be-true label. Then, we compare it with the most data from our dataset."
   ]
  },
  {
   "cell_type": "code",
   "execution_count": null,
   "metadata": {},
   "outputs": [],
   "source": [
    "df_all.sort_values(by=\"images\", ascending=False).head(3)"
   ]
  },
  {
   "cell_type": "markdown",
   "metadata": {},
   "source": [
    "HA! As expected, our model tends to classify the images as the class that has the largest amount of data: **George W Bush**, **Colin Powell**, and **Tony Blair**.\n",
    "\n",
    "We could add more data to the other classes to balance them out, or we could implement augmentation techniques to add more data."
   ]
  },
  {
   "cell_type": "markdown",
   "metadata": {},
   "source": [
    "# Saving the Model"
   ]
  },
  {
   "cell_type": "markdown",
   "metadata": {},
   "source": [
    "Initialize Wandb again to log the model"
   ]
  },
  {
   "cell_type": "code",
   "execution_count": null,
   "metadata": {},
   "outputs": [],
   "source": [
    "# Initialize WandB\n",
    "run = wandb.init(\n",
    "    project=\"face-recognition-lfw\"\n",
    ")"
   ]
  },
  {
   "cell_type": "code",
   "execution_count": null,
   "metadata": {},
   "outputs": [],
   "source": [
    "filename = \"mobilenet_facerecognition.keras\"\n",
    "model_mobilenet.save(os.path.join(WORK_DIR, filename))"
   ]
  },
  {
   "cell_type": "code",
   "execution_count": null,
   "metadata": {},
   "outputs": [],
   "source": [
    "model_artifact = wandb.Artifact(\n",
    "  name=filename, \n",
    "  type=\"model\"\n",
    ")\n",
    "model_artifact.add_file(os.path.join(WORK_DIR, filename))\n",
    "run.log_artifact(model_artifact)\n",
    "wandb.finish()"
   ]
  },
  {
   "cell_type": "code",
   "execution_count": null,
   "metadata": {},
   "outputs": [],
   "source": []
  }
 ],
 "metadata": {
  "kaggle": {
   "accelerator": "gpu",
   "dataSources": [
    {
     "datasetId": 26922,
     "sourceId": 34595,
     "sourceType": "datasetVersion"
    }
   ],
   "dockerImageVersionId": 30636,
   "isGpuEnabled": true,
   "isInternetEnabled": true,
   "language": "python",
   "sourceType": "notebook"
  },
  "kernelspec": {
   "display_name": "Python 3 (ipykernel)",
   "language": "python",
   "name": "python3"
  },
  "language_info": {
   "codemirror_mode": {
    "name": "ipython",
    "version": 3
   },
   "file_extension": ".py",
   "mimetype": "text/x-python",
   "name": "python",
   "nbconvert_exporter": "python",
   "pygments_lexer": "ipython3",
   "version": "3.12.5"
  }
 },
 "nbformat": 4,
 "nbformat_minor": 4
}
